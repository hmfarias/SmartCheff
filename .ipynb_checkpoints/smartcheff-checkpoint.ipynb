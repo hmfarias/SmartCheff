{
 "cells": [
  {
   "cell_type": "code",
   "execution_count": null,
   "metadata": {},
   "outputs": [],
   "source": [
    "<!-- PROJECT LOGO -->\n",
    "<div align=\"center\">\n",
    "  <a href=\"https://github.com/hmfarias/SmartCheff\">\n",
    "    <img src=\"LOGO.png\" alt=\"Logo\" width=\"270\" height=\"270\">\n",
    "  </a>\n",
    "  <h1 align=\"center\">SMART CHEFF-IA</h1>\n",
    "  <h2 align=\"center\">\n",
    "    Generador de Recetas de Cocina Potenciado por IA - <br />\n",
    "    \"Transforma tus ingredientes en platos increíbles con la magia de la IA\"\n",
    "  </h2>\n",
    "    <br />\n",
    "    <a href=\"https://github.com/hmfarias/SmartCheff\"><strong>Explora los documentos »</strong></a>\n",
    "    <br />\n",
    "    <br />\n",
    "    <a href=\"https://github.com/hmfarias/SmartCheff\">Ver repositorio</a>\n",
    "    ·\n",
    "    <a href=\"https://github.com/hmfarias/SmartCheff/issues\">Reportar un error</a>\n",
    "    ·\n",
    "    <a href=\"https://github.com/hmfarias/SmartCheff/issues\">Solicitar función</a>\n",
    "  </h2>\n",
    "</div>\n",
    "\n",
    "<!-- TABLE OF CONTENTS -->\n",
    "\n",
    "### Tabla de contenidos\n",
    "\n",
    "  <ol>\n",
    "    <li>\n",
    "      <a href=\"#introduccion\">Introducción</a>\n",
    "      <ul>\n",
    "        <li><a href=\"#construido-con\">Construido con</a></li>\n",
    "        <li><a href=\"#descripción-general\">Desripción General</a></li>\n",
    "          <ul><a href=\"#uso-de-librerías\">Uso de Librerías</a></ul>\n",
    "      </ul>\n",
    "    </li>\n",
    "    <li>\n",
    "      <a href=\"#comenzando\">Comenzando</a>\n",
    "      <ul>\n",
    "        <li><a href=\"#prerequisitos\">Prerequisitos</a></li>\n",
    "        <li><a href=\"#instalación\">Instalación</a></li>\n",
    "      </ul>\n",
    "    </li>\n",
    "    <li><a href=\"#contribuyendo\">Contribuyendo</a></li>\n",
    "    <li><a href=\"#licencia\">Licencia</a></li>\n",
    "    <li><a href=\"#contacto\">Contacto</a></li>\n",
    "  </ol>\n"
   ]
  },
  {
   "cell_type": "code",
   "execution_count": null,
   "metadata": {
    "colab": {
     "base_uri": "https://localhost:8080/"
    },
    "executionInfo": {
     "elapsed": 5855,
     "status": "ok",
     "timestamp": 1722509650662,
     "user": {
      "displayName": "HUGO mon",
      "userId": "09905057186129444342"
     },
     "user_tz": 180
    },
    "id": "Ino7_SDWzuLo",
    "outputId": "af581013-9f55-409d-ce53-7d5d7da59690",
    "scrolled": true
   },
   "outputs": [],
   "source": [
    "pip install openai==0.28"
   ]
  },
  {
   "cell_type": "markdown",
   "metadata": {
    "id": "J0NTpICHl0Xn"
   },
   "source": [
    "**ZERO SHOT:**\n",
    "En el enfoque zero-shot, el modelo no recibe ejemplos previos para la tarea específica. Simplemente se le da una instrucción clara y se espera que genere una salida razonable basándose en su conocimiento general.\n"
   ]
  },
  {
   "cell_type": "code",
   "execution_count": 10,
   "metadata": {
    "colab": {
     "base_uri": "https://localhost:8080/",
     "height": 417
    },
    "executionInfo": {
     "elapsed": 262191,
     "status": "error",
     "timestamp": 1722510013090,
     "user": {
      "displayName": "HUGO mon",
      "userId": "09905057186129444342"
     },
     "user_tz": 180
    },
    "id": "-EbI0txTzwxg",
    "outputId": "2b8ba9e9-0d30-4144-8cc8-169f3dd04b22"
   },
   "outputs": [
    {
     "name": "stdout",
     "output_type": "stream",
     "text": [
      "assistant: ¡Claro! Aquí tienes un itinerario detallado para disfrutar al máximo de tu viaje a París:\n",
      "\n",
      "Día 1:\n",
      "- Por la mañana: Visita al Museo del Louvre. Se recomienda llegar temprano para evitar las largas colas. Abre a las 9:00 am, por lo que te sugiero estar allí unos 30 minutos antes. Dedica al menos 3 horas para recorrer las principales obras, como la Mona Lisa y la Venus de Milo.\n",
      "- Almuerzo: Puedes comer en alguno de los restaurantes cercanos al Louvre o llevar un picnic y disfrutarlo en los jardines de las Tull\n"
     ]
    }
   ],
   "source": [
    "import openai\n",
    "\n",
    "openai.api_key = \"\"\n",
    "\n",
    "def zero_shot_itinerary(destinations_activities):\n",
    "\n",
    "    # Crear el contexto y el prompt\n",
    "    context = \"Eres un organizador y viajero experto\"\n",
    "    prompt = (f\"Genera un itinerario de viaje detallado para el siguiente conjunto de destinos y actividades: {destinations_activities}. \"\n",
    "    \"Incluye recomendaciones de horarios, transportes y consejos para cada actividad.\")\n",
    "\n",
    "    # Hacer la solicitud a la API\n",
    "    conversation = [\n",
    "        {\"role\": \"system\", \"content\": context},\n",
    "        {\"role\": \"user\", \"content\": prompt}\n",
    "    ]\n",
    "\n",
    "    response = openai.ChatCompletion.create(\n",
    "        model='gpt-3.5-turbo',\n",
    "        messages=conversation,\n",
    "        max_tokens=150,\n",
    "        temperature=0.1\n",
    "    )\n",
    "\n",
    "    # Obtener y mostrar la respuesta\n",
    "    message = response.choices[0].message\n",
    "    print(f\"{message['role']}: {message['content']}\")\n",
    "\n",
    "destinations_activities = \"París, Museo del Louvre, Torre Eiffel, paseo en barco por el Sena, café en Montmartre\"\n",
    "zero_shot_itinerary(destinations_activities)\n",
    "\n",
    "\n"
   ]
  },
  {
   "cell_type": "markdown",
   "metadata": {
    "id": "hTzylMi3l7cj"
   },
   "source": [
    "**ONE SHOT:** \n",
    "En el enfoque one-shot, el modelo recibe un único ejemplo de la tarea antes de generar la salida para una nueva entrada. Esto ayuda al modelo a entender mejor el formato y el tipo de respuesta esperada."
   ]
  },
  {
   "cell_type": "code",
   "execution_count": 12,
   "metadata": {
    "colab": {
     "base_uri": "https://localhost:8080/"
    },
    "id": "zAEpm0u25wBo",
    "outputId": "bb997046-93a5-4a7a-ef72-8e235ba77378"
   },
   "outputs": [
    {
     "name": "stdout",
     "output_type": "stream",
     "text": [
      "assistant: Destinos y actividades: París, Museo del Louvre, Torre Eiffel, paseo en barco por el Sena, café en Montmartre\n",
      "\n",
      "Itinerario:\n",
      "\n",
      "Día 1:\n",
      "- Mañana: Visita al Museo del Louvre\n",
      "Recomendación: Se recomienda llegar temprano para evitar las largas filas. El museo abre a las 9:00 a.m., por lo que se sugiere estar allí al menos 30 minutos antes. Se puede tomar el metro hasta la estación Palais Royal - Musée du Louvre.\n",
      "\n",
      "- Tarde: Visita a la Torre Eiffel\n",
      "Recomendación: Después de salir del Louvre, se puede tomar el metro hasta la estación Trocadéro para tener una vista impresionante de la Torre Eiffel. Se sugiere subir a la torre para disfrutar de las vistas panorámicas de la ciudad.\n",
      "\n",
      "Día 2:\n",
      "- Mañana: Paseo en barco por el Sena\n",
      "Recomendación: Se puede tomar un crucero por el río Sena para disfrutar de las vistas de los principales monumentos de París, como la Catedral de Notre Dame, el Louvre y la Torre Eiffel. Se pueden encontrar diferentes opciones de cruceros con horarios variados.\n",
      "\n",
      "- Tarde: Café en Montmartre\n",
      "Recomendación: Para finalizar el día, se puede tomar el metro hasta la estación Abbesses en Montmartre. Disfruta de un café en una de las encantadoras cafeterías de la zona y pasea por las calles empedradas mientras admiras la arquitectura bohemia y la vista panorámica de la ciudad desde la colina.\n",
      "\n",
      "Consejos generales:\n",
      "- Se recomienda adquirir las entradas con anticip\n"
     ]
    }
   ],
   "source": [
    "import openai\n",
    "\n",
    "openai.api_key = \"\"\n",
    "\n",
    "def one_shot_itinerary(destinations_activities):\n",
    "\n",
    "    # Crear el contexto, el ejemplo y el prompt\n",
    "    context = \"Eres un organizador y viajero experto\"\n",
    "    example = \"\"\"Ejemplo:\n",
    "    Destinos y actividades: Nueva York, Estatua de la Libertad, Central Park\n",
    "    Itinerario: Día 1: Mañana: Visita a la Estatua de la Libertad. Tarde: Paseo por Central Park.\n",
    "    \"\"\"\n",
    "    prompt = (f\"{example}\\n\\n\"\n",
    "        f\"Genera un itinerario de viaje detallado para el siguiente conjunto de destinos y actividades: {destinations_activities}. \"\n",
    "        \"Incluye recomendaciones de horarios, transportes y consejos para cada actividad.\"\n",
    "    )\n",
    "\n",
    "    # Hacer la solicitud a la API\n",
    "    conversation = [\n",
    "        {\"role\": \"system\", \"content\": context},\n",
    "        {\"role\": \"user\", \"content\": prompt}\n",
    "    ]\n",
    "\n",
    "    response = openai.ChatCompletion.create(\n",
    "        model='gpt-3.5-turbo',\n",
    "        messages=conversation,\n",
    "        max_tokens=400,\n",
    "        temperature=0.1\n",
    "    )\n",
    "\n",
    "    # Obtener y mostrar la respuesta\n",
    "    message = response.choices[0].message\n",
    "    print(f\"{message['role']}: {message['content']}\")\n",
    "\n",
    "# USO:\n",
    "destinations_activities = \"París, Museo del Louvre, Torre Eiffel, paseo en barco por el Sena, café en Montmartre\"\n",
    "one_shot_itinerary(destinations_activities)\n"
   ]
  },
  {
   "cell_type": "markdown",
   "metadata": {
    "id": "LgmddB1omhbz"
   },
   "source": [
    "**FEW SHOT:**\n",
    "En el enfoque few-shot, el modelo recibe múltiples ejemplos de la tarea antes de generar la salida para una nueva entrada. Esto le proporciona más contexto y mejora la precisión y relevancia de las respuestas."
   ]
  },
  {
   "cell_type": "code",
   "execution_count": 14,
   "metadata": {
    "colab": {
     "background_save": true,
     "base_uri": "https://localhost:8080/"
    },
    "id": "4BbhySQ56ZIL",
    "outputId": "c44b64fd-4816-4c98-aaba-a0f3bf68821c"
   },
   "outputs": [
    {
     "name": "stdout",
     "output_type": "stream",
     "text": [
      "assistant: Itinerario de Viaje a París:\n",
      "\n",
      "Día 1:\n",
      "- Mañana: Visita al Museo del Louvre\n",
      "Recomendación: Se recomienda llegar temprano para evitar las largas filas de entrada. Se sugiere dedicar al menos 3-4 horas para recorrer las principales obras de arte del museo.\n",
      "\n",
      "- Tarde: Visita a la Torre Eiffel\n",
      "Recomendación: Se sugiere reservar las entradas con anticipación para evitar largas esperas. Disfruta de las vistas panorámicas de la ciudad desde la Torre Eiffel al atardecer.\n",
      "\n",
      "Día 2:\n",
      "- Mañana: Paseo en barco por el Sena\n",
      "Recomendación: Realiza un paseo en barco por el río Sena para disfrutar de las vistas de los principales monumentos de París desde el agua. Se recomienda tomar el primer paseo del día para evitar multitudes.\n",
      "\n",
      "- Tarde: Café en Montmartre\n",
      "Recomendación: Visita el barrio de Montmartre, conocido por su encanto bohemio y artístico. Disfruta de un café en una de las acogedoras cafeterías y explora la zona, incluyendo la Basílica del Sagrado Corazón.\n",
      "\n",
      "Transporte: Para desplazarte entre las actividades, se recomienda utilizar el transporte público de París, como el metro o autobuses. También puedes optar por servicios de taxi o aplicaciones de transporte compartido.\n",
      "\n",
      "Consejos adicionales:\n",
      "- Aprovecha los pases turísticos como el Paris Pass para acceder a múltiples atracciones con descuentos y evitar colas.\n",
      "- Reserva con anticipación las entradas para las atracciones más populares para garantizar tu acceso.\n",
      "- Explora la gastronomía local probando platos típicos en restaurantes tradicionales parisinos.\n",
      "- No olvides llevar calzado cómodo para caminar y ropa adecuada según la temporada en la que viajes a París.\n",
      "\n",
      "¡Disfruta de tu viaje a la Ciudad de la Luz!\n"
     ]
    }
   ],
   "source": [
    "import openai\n",
    "\n",
    "openai.api_key = \"\"\n",
    "\n",
    "def few_shot_itinerary(destinations_activities):\n",
    "\n",
    "    # Crear el contexto, el ejemplo y el prompt\n",
    "    context = \"Eres un organizador y viajero experto\"\n",
    "    examples = \"\"\"\n",
    "    Ejemplo 1:\n",
    "    Destinos y actividades: Nueva York, Estatua de la Libertad, Central Park\n",
    "    Itinerario: Día 1: Mañana: Visita a la Estatua de la Libertad. Tarde: Paseo por Central Park.\n",
    "\n",
    "    Ejemplo 2:\n",
    "    Destinos y actividades: Tokio, Templo Sensoji, Mercado de Tsukiji\n",
    "    Itinerario: Día 1: Mañana: Visita al Templo Sensoji. Tarde: Almuerzo en el Mercado de Tsukiji.\n",
    "\n",
    "    Ejemplo 3:\n",
    "    Destinos y actividades: París, Museo del Louvre, Torre Eiffel\n",
    "    Itinerario: Día 1: Mañana: Visita al Museo del Louvre. Tarde: Visita a la Torre Eiffel.\n",
    "    \"\"\"\n",
    "    \n",
    "    prompt = (f\"{examples}\\n\\n\"\n",
    "        f\"Genera un itinerario de viaje detallado para el siguiente conjunto de destinos y actividades: {destinations_activities}. \"\n",
    "        \"Incluye recomendaciones de horarios, transportes y consejos para cada actividad.\"\n",
    "    )\n",
    "\n",
    "    # Hacer la solicitud a la API\n",
    "    conversation = [\n",
    "        {\"role\": \"system\", \"content\": context},\n",
    "        {\"role\": \"user\", \"content\": prompt}\n",
    "    ]\n",
    "\n",
    "    response = openai.ChatCompletion.create(\n",
    "        model='gpt-3.5-turbo',\n",
    "        messages=conversation,\n",
    "        max_tokens=700,\n",
    "        temperature=0.1\n",
    "    )\n",
    "\n",
    "    # Obtener y mostrar la respuesta\n",
    "    message = response.choices[0].message\n",
    "    print(f\"{message['role']}: {message['content']}\")\n",
    "\n",
    "# USO:\n",
    "destinations_activities = \"París, Museo del Louvre, Torre Eiffel, paseo en barco por el Sena, café en Montmartre\"\n",
    "few_shot_itinerary(destinations_activities)\n"
   ]
  },
  {
   "cell_type": "code",
   "execution_count": null,
   "metadata": {},
   "outputs": [],
   "source": []
  }
 ],
 "metadata": {
  "colab": {
   "provenance": [
    {
     "file_id": "1ct7yy116PUQsyHiTtvPaHq8NLuXGEFjE",
     "timestamp": 1722510140236
    }
   ]
  },
  "kernelspec": {
   "display_name": "Python 3 (ipykernel)",
   "language": "python",
   "name": "python3"
  },
  "language_info": {
   "codemirror_mode": {
    "name": "ipython",
    "version": 3
   },
   "file_extension": ".py",
   "mimetype": "text/x-python",
   "name": "python",
   "nbconvert_exporter": "python",
   "pygments_lexer": "ipython3",
   "version": "3.12.4"
  }
 },
 "nbformat": 4,
 "nbformat_minor": 4
}

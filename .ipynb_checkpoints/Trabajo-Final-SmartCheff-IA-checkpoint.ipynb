{
 "cells": [
  {
   "cell_type": "markdown",
   "metadata": {},
   "source": [
    "<!-- PROJECT LOGO -->\n",
    "<div align=\"center\">\n",
    "    <a href=\"https://github.com/hmfarias/SmartCheff\">\n",
    "        <img src=\"LOGO.png\" alt=\"Logo\" width=\"270\" height=\"270\">\n",
    "    </a>\n",
    "    <h1>Proyecto Smart Cheff IA</h1>\n",
    "    <H2>Un generador de recetas de cocina potenciado por Inteligencia Artificial</H2>\n",
    "    <h3><i>\"Transforma tus ingredientes en platos increíbles con la magia de la IA\"</i></h3>\n",
    "</div>\n",
    "<hr>\n",
    "<h5 align=\"center\">\n",
    "    <a href=\"https://github.com/hmfarias/SmartCheff\"><strong>Explora los documentos »</strong></a>\n",
    "    <br />\n",
    "    <br />\n",
    "    <a href=\"https://github.com/hmfarias/SmartCheff\">Ver repositorio GitHub</a>\n",
    "    ·\n",
    "    <a href=\"https://github.com/hmfarias/SmartCheff/issues\">Reportar un error</a>\n",
    "    ·\n",
    "    <a href=\"https://github.com/hmfarias/SmartCheff/issues\">Solicitar función</a>\n",
    "</h5>\n",
    "<hr>"
   ]
  },
  {
   "cell_type": "markdown",
   "metadata": {},
   "source": [
    "<a name=\"top\"></a>\n",
    "### Tabla de contenidos\n",
    "\n",
    "1. [Resumen](#resumen)\n",
    "2. [Introducción](#introduccion)\n",
    "    * [Nombre del Proyecto](#nombre)\n",
    "    * [Presentación del Problema](#presentacion)\n",
    "    * [Desarrollo de la propuesta de solución](#desarrollo)\n",
    "    * [Justificación de la viabilidad](#justificacion)\n",
    "3. [Objetivos](#objetivos)\n",
    "4. [Metodologías](#metodologias)\n",
    "5. [Herramientas y Tecnologías](#herramientas)\n",
    "   * [Técnicas de Entrenamiento](#tecnicas)\n",
    "   * [Selección de la técnica mas adecuada para el proyecto](#seleccion)\n",
    "6. [Evaluación de Costos](#costos)\n",
    "7. [IMPLEMENTACIÓN](#implementacion)\n",
    "    * [Paso 1 - Instalación de Dependencias](#dependencias)\n",
    "    * [Paso 2 - Importación de Librerías](#importacion)\n",
    "    * [Paso 3 - Definición de API Key](#apikey)\n",
    "    * [Paso 4 - Función para generar receta](#generarReceta)\n",
    "    * [Paso 5 - Función para obtener el nombre de la receta](#nombreReceta)\n",
    "    * [Paso 6 - Función para generar la imágen de la receta](#imagenReceta)\n",
    "    * [Paso 7 - Función para generar PDF](#generaPdf)\n",
    "    * [Paso 8 - Usando la API](#usando)\n",
    "      * [1-Ingreso interactivo de los ingredientes](#ingresoIngredientes)\n",
    "      * [2-Generación de la receta](#generacionReceta)\n",
    "      * [3-Generación de la imágen de la receta](#generacionImagen)\n",
    "      * [4-Generación del archivo PDF con la receta](#generacionPDF)\n",
    "8. [Resultados](#resultados)\n",
    "9. [Conclusiones](#conclusiones)\n",
    "    * [Impacto y futuro del proyecto](#impacto)\n",
    "10. [IMPLEMENTACIÓN EN UNA APP CON FRONT END](#appFront)\n",
    "    * [Función para generar el audio de la receta](#audioReceta)\n",
    "11. [Cierre](#cierre)\n",
    "\n",
    "   \n",
    "\n",
    "<hr>\n",
    "\n"
   ]
  },
  {
   "cell_type": "markdown",
   "metadata": {},
   "source": [
    "<a name=\"resumen\"></a>\n",
    "## 1. Resumen\n",
    "\n",
    "<b>\"Smart Cheff IA\"</b> tiene como objetivo desarrollar un sistema de inteligencia artificial que, utilizando técnicas de fast prompting y modelos de OpenAI, genere recetas basadas en los ingredientes disponibles. Este sistema permitirá a los usuarios maximizar el uso de los alimentos que tienen a mano, reduciendo el desperdicio y facilitando la creación de comidas variadas y nutritivas. <br>\n",
    "Sólo es necesario ingresar los ingredientes disponibles y la IA se encargará de sugerir platos creativos que puedes preparar siguiendo las instrucciones detalladas. Además, genera una imagen del plato final, brindándote una visualización clara de lo que puedes esperar al seguir la receta. <br>\n",
    "Como corolario final, la implementación permite descargar la receta generada en un documento en formato PDF.<br>\n",
    "Ideal para quienes buscan inspiración en la cocina o quieren aprovechar al máximo los ingredientes que se tienen a mano.\n",
    "\n",
    "[Volver al menú](#top)"
   ]
  },
  {
   "cell_type": "markdown",
   "metadata": {},
   "source": [
    "<a name=\"introduccion\"></a>\n",
    "## 2. Introducción\n",
    "\n",
    "<a name=\"nombre\"></a>\n",
    "### Nombre del Proyecto: Smart Cheff IA\n",
    "\n",
    "[Volver al menú](#top)\n",
    "\n",
    "<a name=\"presentacion\"></a>\n",
    "### Presentación del problema a abordar:\n",
    "\n",
    "La planificación de comidas puede ser un desafío, especialmente cuando los usuarios tienen ingredientes limitados o desean evitar el desperdicio de alimentos. El problema radica en la dificultad de identificar recetas adecuadas con los ingredientes disponibles, lo que puede llevar a la falta de variedad en las comidas o al desperdicio de alimentos. Un sistema de inteligencia artificial que genere recetas basadas en una lista de ingredientes ayudaría a resolver este problema, facilitando la preparación de comidas más variadas y reduciendo el desperdicio.\n",
    "\n",
    "[Volver al menú](#top)\n",
    "\n",
    "<a name=\"desarrollo\"></a>\n",
    "### Desarrollo de la propuesta de solución:\n",
    "La solución propuesta se basa en el uso de modelos de inteligencia artificial, específicamente los modelos de OpenAI para generar recetas a partir de una lista de ingredientes. El sistema utilizará prompts de texto a texto para generar recetas detalladas y de texto a imagen para visualizar el plato final. También se podría utilizar un modelo de texto a audio para proporcionar instrucciones verbales, lo que podría ser útil en entornos de cocina (implementación que a la fecha de este trabajo se encuentra en investigación). Estos prompts serán diseñados para maximizar la utilidad de los ingredientes disponibles y asegurar que las recetas generadas sean fáciles de seguir.\n",
    "\n",
    "\n",
    "#### Componentes del proyecto:\n",
    "1. **Generación de recetas (texto-texto):**\n",
    "   * **Entrada:** Lista de ingredientes, (por ejemplo, \" papas, carne molida, tomate\")\n",
    "   * **Proceso:** Utilizar un modelo de generación de texto como gpt-3.5-turbo para crear una receta creativa y detallada, incluyendo un título para la receta, ingredientes de la receta con tamaño y porción, y una lista de instrucciones para llevar a cabo el plato.\n",
    "   * **Salida:** Una receta detallada que expliquen cómo realizar el plato y que pueda descargarse en formato PDF.\n",
    "2. **Generación de visualización del plato final (texto-imágen):**\n",
    "    * **Entrada:** Descripción del plato generado por el modelo de texto.\n",
    "    * **Proceso:** Emplear modelos de generación de imágenes a partir de texto (como DALL-E) para crear una visualización atractivas del plato final.\n",
    "    * **Salida:** Imagen que acompaña a la receta, proporcionando una representación del plato final atractivamente presentado.\n",
    "\n",
    "\n",
    "[Volver al menú](#top)\n",
    "\n",
    "#### Relevancia\n",
    "\n",
    "Este proyecto es relevante porque aborda varios desafíos comunes en la cocina, como la falta de inspiración y la gestión eficiente de ingredientes. Muchas personas enfrentan la frustración de no saber qué cocinar con lo que tienen a mano, lo que a menudo resulta en desperdicio de alimentos y comidas repetitivas. Al utilizar inteligencia artificial para generar recetas basadas en los ingredientes disponibles, el proyecto no solo facilita la planificación de comidas, sino que también ayuda a reducir el desperdicio de alimentos, promueve la sostenibilidad y optimiza el uso de recursos.\n",
    "\n",
    "Además, al incorporar modelos de texto e imagen, el sistema mejora la experiencia del usuario, haciéndola más accesible y atractiva. En un mundo donde la tecnología está cada vez más integrada en la vida diaria, este proyecto demuestra cómo la IA puede ser una herramienta poderosa para mejorar la calidad de vida en algo tan fundamental como la alimentación.\n",
    "\n",
    "[Volver al menú](#top)\n",
    "\n",
    "<a name=\"justificacion\"></a>\n",
    "### Justificación de la viabilidad del proyecto:\n",
    "\n",
    "La combinación de tecnología avanzada como la inteligencia artificial, con un problema práctico como la cocina diaria, demuestra cómo la innovación puede mejorar la calidad de vida. La posibilidad de generar recetas personalizadas no solo añade valor al proceso de cocinar, sino que también hace que la tecnología sea accesible y útil en la vida cotidiana.\n",
    "\n",
    "La **viabilidad técnica** del proyecto es alta, dado que los modelos de OpenAI son capaces de generar contenido basado en prompts bien diseñados. La implementación en una Jupyter Notebook permite una rápida iteración y pruebas de concepto, mientras que el uso de técnicas de fast prompting reduce el tiempo de respuesta del sistema. Los recursos necesarios, principalmente el acceso a la API de OpenAI y una plataforma de desarrollo como Jupyter, están fácilmente disponibles.\n",
    "\n",
    "[Volver al menú](#top)"
   ]
  },
  {
   "cell_type": "markdown",
   "metadata": {},
   "source": [
    "<a name=\"objetivos\"></a>\n",
    "## 3. Objetivos \n",
    "\n",
    "* Desarrollar un sistema de IA que genere recetas basadas en una lista de ingredientes disponibles.\n",
    "* Utilizar modelos de texto a texto y texto a imagen para mejorar la experiencia del usuario.\n",
    "* Crear una prueba de concepto en Jupyter Notebook que demuestre la viabilidad del sistema.\n",
    "* Estimar los costos asociados con el uso de la API de OpenAI.\n",
    "\n",
    "[Volver al menú](#top)\n",
    "\n"
   ]
  },
  {
   "cell_type": "markdown",
   "metadata": {},
   "source": [
    "<a name=\"metodologias\"></a>\n",
    "## 4. Metodologías \n",
    "\n",
    "El proyecto se llevará a cabo mediante el desarrollo de una Jupyter Notebook que utilizará los modelos de OpenAI para generar recetas. Se diseñarán prompts específicos para cada modelo (texto a texto y texto a imagen), y se implementarán técnicas de fast prompting para optimizar la eficiencia del sistema. Se realizarán pruebas iterativas para ajustar los prompts y mejorar la calidad de las recetas generadas.\n",
    "\n",
    "[Volver al menú](#top)\n"
   ]
  },
  {
   "cell_type": "markdown",
   "metadata": {},
   "source": [
    "<a name=\"herramientas\"></a>\n",
    "## 5. Herramientas y tecnologías: \n",
    "\n",
    "Para llevar a cabo el proyecto se han utilizado las siguientes tecnologías y herramientas:\n",
    "\n",
    "* **Modelos de OpenAI:** Para generar el contenido textual, visual y auditivo de las recetas.\n",
    "* **Jupyter Notebook:** Para la implementación de la prueba de concepto y la iteración rápida de los modelos.\n",
    "* **Técnicas de Fast Prompting:** Para mejorar la velocidad y precisión de los resultados generados, permitiendo una interacción fluida con el usuario.\n",
    "* **Streamlit:** Como framework de aplicación de código abierto que brinda la posibilidad de generar y ejecutar el proyecto en una pagina web básica.\n",
    "* **FPDF:** Como librería que permite generar el archivo PDF con la receta y su imágen ilustrativa.\n",
    "* **Pillow:** Para la edición de la imágen generada.\n",
    "* **Requests:** Para hacer la petición HTTP de la imágen de la receta generada.\n",
    "* **BytesIO:** Para manejar las imágenes como datos binarios en memoria y poder acomodarla convenientemente.\n",
    "\n",
    "[Volver al menú](#top)\n",
    "\n",
    "<hr>"
   ]
  },
  {
   "cell_type": "markdown",
   "metadata": {},
   "source": [
    "<a name=\"tecnicas\"></a>\n",
    "### Técnicas de entrenamiento:\n",
    "\n",
    "Asimismo, en el contexto de la generación de recetas inteligentes, imágenes y audio, es crucial decidir si se utilizará una técnica de  zero-shot, one-shot o few-shot para el entrenamiento y uso de los modelos de inteligencia artificial. A continuación, se explica cada una de estas técnicas y se justifica cuál es la más adecuada para el proyecto \"Smart Cheff IA\".\n",
    "\n",
    "1. **Zero-Shot Learning**\n",
    "   * **Descripción**: Zero-Shot Learning permite a un modelo realizar tareas sin haber visto ejemplos específicos de esas tareas durante su entrenamiento. El modelo se basa en su comprensión general para generar respuestas adecuadas, incluso cuando no ha recibido ninguna muestra sobre el formato o el contenido esperado.\n",
    "   * **Ejemplo:** ***\"Tengo los siguientes ingredientes: arroz, pollo, zanahorias, y salsa de soja. Genera una receta utilizando estos ingredientes.\"*** pero no se le proporciona ningún ejemplo previo del formato de salida, por lo cual el modelo tendrá que basarse completamente en su conocimiento general del lenguaje y de las recetas para producir una receta coherente.\n",
    "   * **Ventajas:**\n",
    "       * No requiere datos adicionales de entrenamiento.\n",
    "       * Es útil para generar respuestas a una amplia variedad de prompts sin necesidad de personalizacion previa.  \n",
    "   * **Desventajas:**\n",
    "       * Puede no ser tan preciso o específico en comparación con técnicas que utilizan ejemplos.\n",
    "       * Puede generar respuestas que no son perfectamente alineadas con las expectativas específicas del usuario.\n",
    "   * **Aplicación en Smart Cheff IA:** Zero-shot learning puede ser útil para la generación de recetas de cocina donde el modelo ya tiene suficiente conocimiento sobre recetas comunes y datos relacionados. Esto permite una implementación rápida sin la necesidad de cursar un conjunto específico de ejemplos de entrenamiento.\n",
    "  \n",
    "<hr>\n",
    "\n",
    "2. **One-Shot Learning**\n",
    "   * **Descripción**: One-Shot Learning es la capacidad de un modelo para aprender y generalizar a partir de un solo ejemplo. En este caso, el ejemplo proporcionado no incluye información sobre los ingredientes, sino solo sobre el formato en el que se espera que la receta sea generada (por ejemplo, cómo deben estructurarse las instrucciones, los títulos, los pasos, etc.).\n",
    "   * **Ejemplo:** ***\"Tengo los siguientes ingredientes: arroz, pollo, zanahorias, y salsa de soja. Genera una receta utilizando estos ingredientes y aplica el siguiente formato a la respuesta: .... (se especifica el formato de salida esperado)\"***. Si se le proporciona al modelo **un** ejemplo del formato de salida esperado para una receta (por ejemplo, una receta escrita con un título, lista de ingredientes, y pasos detallados), el modelo podría generar nuevas recetas con diferentes ingredientes, pero siguiendo estrictamente ese formato dado.\n",
    "   * **Ventajas:**\n",
    "       * Requiere solo un ejemplo, lo cual es eficiente en términos de tiempo y recursos.\n",
    "       * Puede mejorar la precisión en comparación con zero-shot al proporcionar una guía clara.  \n",
    "   * **Desventajas:**\n",
    "       * La calidad de la salida depende mucho de la calidad y relevancia del ejemplo proporcionado.\n",
    "   * **Aplicación en Smart Cheff IA:** One-shot learning es útil cuando se necesita generar una receta siguiendo un formato específico que el usuario prefiere. Un ejemplo claro del formato deseado puede ayudar al modelo a ajustar su salida.\n",
    "  \n",
    "<hr>\n",
    "\n",
    "3. **Few-Shot Learning**\n",
    "   * **Descripción**: Few-Shot Learning implica aprender de un pequeño número de ejemplos. Aquí, los ejemplos proporcionados solo muestran el formato de salida, pero no cómo los ingredientes específicos deben integrarse en las recetas. El modelo utiliza estos pocos ejemplos para captar el estilo y la estructura de la salida esperada.\n",
    "   * **Ejemplo:** Con tres o cuatro ejemplos de recetas que siguen un formato específico, como listas de ingredientes seguidas por instrucciones numeradas, el modelo puede generalizar este formato a nuevas recetas, incluso si no se le dan ejemplos sobre cómo manejar los ingredientes en particular.\n",
    "   * **Ventajas:**\n",
    "       * Ofrece un equilibrio entre flexibilidad y especificidad.\n",
    "       * Mejora la precisión y coherencia de las respuestas en comparación con zero-shot y one-shot.  \n",
    "   * **Desventajas:**\n",
    "       * •\tRequiere más ejemplos, lo cual puede implicar más tiempo y **sobre todo costos** y recursos para recopilar y preparar.\n",
    "   * **Aplicación en Smart Cheff IA:** Few-shot learning es particularmente útil para generar recetas de cocina y visualizaciones cuando se desean resultados altamente específicos y personalizados. Proporcionar varios ejemplos de recetas y visualizaciones puede ayudar al modelo a generar salidas que cumplan con las expectativas del usuario de manera más consistente.\n",
    "\n",
    "[Volver al menú](#top)\n",
    " <hr>"
   ]
  },
  {
   "cell_type": "markdown",
   "metadata": {},
   "source": [
    "<a name=\"seleccion\"></a>\n",
    "### Selección del modelo mas apropiado para el proyecto: One-Shot Learning\n",
    "\n",
    "#### Justificación\n",
    "\n",
    "El modelo **One-Shot Learning** es el más adecuado para este proyecto en el que el ejemplo proporcionado al modelo solo incluye el formato de salida esperado para las recetas, sin detallar cómo deben usarse los ingredientes. \n",
    "\n",
    "Las razones son las siguientes:\n",
    "1. **Aprendizaje Eficiente del Formato**: One-Shot Learning permite al modelo aprender y replicar el formato de salida de manera efectiva a partir de un solo ejemplo. Esto es crucial cuando el usuario necesita que las recetas se presenten de manera consistente, siguiendo una estructura específica que facilita su comprensión y uso.\n",
    "2. **Generación Consistente y Coherent**e: Con One-Shot Learning, el modelo puede generar recetas que se ajusten al formato deseado (por ejemplo, con un título claro, lista de ingredientes, y pasos bien organizados), incluso si el modelo no ha recibido información específica sobre cómo utilizar los ingredientes en esas recetas. Esto garantiza que todas las salidas del modelo tengan una presentación uniforme, independientemente de la variedad de ingredientes proporcionados.\n",
    "3. **Simplicidad en la Implementación:** Al requerir solo un ejemplo de formato, One-Shot Learning simplifica la implementación del sistema, ya que no es necesario proporcionar múltiples ejemplos para que el modelo entienda cómo estructurar las recetas. Esto es ideal para usuarios que desean una herramienta fácil de configurar y que ofrezca resultados inmediatos y estructurados y sobre todo a un costo de recursos equilibrado.\n",
    "\n",
    "##### Ejemplo aplicado al proyecto:\n",
    "\n",
    "Si el modelo recibe un ejemplo de cómo debe verse una receta, que incluye secciones como \"Título de la receta\", \"Ingredientes\", y \"Instrucciones\", el modelo será capaz de generar nuevas recetas usando cualquier conjunto de ingredientes proporcionados, pero presentándolas siempre en ese formato estructurado y claro. Por ejemplo, \n",
    "\n",
    "**Prompt:**\n",
    "\n",
    "**Texto:** \"Aquí tienes un ejemplo de formato de receta:\n",
    "\n",
    "Título: Ensalada de Quinoa y Aguacate\n",
    "Ingredientes:\n",
    "- 1 taza de quinoa cocida\n",
    "- 1 aguacate maduro, cortado en cubos\n",
    "- 1/2 cebolla morada, finamente picada\n",
    "- Jugo de 1 limón\n",
    "- Sal y pimienta al gusto\n",
    "\n",
    "Instrucciones:\n",
    "1. Mezcla la quinoa cocida con el aguacate y la cebolla en un bol.\n",
    "2. Añade el jugo de limón, sal y pimienta al gusto.\n",
    "3. Sirve frío.\n",
    "\n",
    "\n",
    "***genera una receta utilizando los ingredientes: pasta, albahaca, tomates cherry, y queso parmesano, siguiendo el formato del ejemplo proporcionado.\"***\n",
    "\n",
    "Esperado:\n",
    "\n",
    "El modelo debe generar una receta utilizando pasta, albahaca, tomates cherry, y queso parmesano, presentando la receta en el mismo formato que se le ha mostrado en el ejemplo (con título, lista de ingredientes e instrucciones). Aunque el modelo solo ha recibido un ejemplo de formato, debe aplicarlo correctamente a los nuevos ingredientes para crear una receta coherente y bien estructurada.\n",
    "\n",
    "[Volver al menú](#top)"
   ]
  },
  {
   "cell_type": "markdown",
   "metadata": {},
   "source": [
    "<a name=\"costos\"></a>\n",
    "## 6. Evaluación de Costos \n",
    "\n",
    "Para evaluar los costos de implementar el proyecto, es importante considerar las tarifas asociadas con el uso de las API de OpenAI para la generación de texto e  imágenes. Asumiremos el uso de **gpt-3.5-turbo** para la generación de texto y **dall-e-3** para la generación de imágenes.\n",
    "\n",
    "### Costos estimados:\n",
    "\n",
    "*  **gpt-3.5-turbo:** De acuerdo a lo indicado en la página web de OpenAI (https://openai.com/api/pricing/), los costos de este modelo son:\n",
    "    * USD 3.00 / 1M input tokens  -> USD 0,003 por cada 1.000 tokens\n",
    "    * USD 6.00 / 1M outputs tokens -> USD 0,006 por cada 1.000 tokens\n",
    " \n",
    "    **Tomaremos un costo promedio de USD 0.005 por cada 1,000 tokens.**\n",
    "\n",
    "<hr>\n",
    "\n",
    "*  **dall-e-3:** De acuerdo a lo indicado en la página web de OpenAI (https://openai.com/api/pricing/), los costos de este modelo son:\n",
    "    * USD 0.04 / imagen con resolución 1024×1024\n",
    "\n",
    "     **Tomaremos un costo de USD 0.04 por cada imágen.**\n",
    "\n",
    "<hr>\n",
    "\n",
    "\n",
    "Vamos a considerar un uso promedio para cada receta:\n",
    "\n",
    "* **Generación de receta de texto:** Cada consulta genera una receta detallada (promedio de 1000 tokens por receta).\n",
    "* **Generación de Imágen para la receta:** Cada receta genera una imagen.\n",
    "\n",
    "#### Cálculo de costos por receta:\n",
    "* **Texto (gpt-3.5-turbo):** 1000 tokens x USD 0.005 / 1,000 tokens = USD 0.005 por receta.\n",
    "* **Imágen (dall-e-3):** 1 imágen x USD 0.04 por imagen = USD 0.04 por receta.\n",
    "\n",
    "\n",
    "**Costo total por receta: USD 0.005 (texto) + USD 0.04 (imágenes) = USD 0.045**\n",
    "\n",
    "**Si se generan 1,000 recetas al mes, el costo mensual sería de USD 0.045 x 1,000 = USD 45.**\n",
    "\n",
    "[Volver al menú](#top)\n"
   ]
  },
  {
   "cell_type": "markdown",
   "metadata": {},
   "source": [
    "<a name=\"implementacion\"></a>\n",
    "## 7. IMPLEMENTACIÓN: \n",
    "\n",
    "<a name=\"dependencias\"></a>\n",
    "### PASO 1: Instalación de dependencias - [Volver al menú](#top)\n",
    "<hr>\n"
   ]
  },
  {
   "cell_type": "code",
   "execution_count": 6,
   "metadata": {
    "colab": {
     "base_uri": "https://localhost:8080/"
    },
    "executionInfo": {
     "elapsed": 5855,
     "status": "ok",
     "timestamp": 1722509650662,
     "user": {
      "displayName": "HUGO mon",
      "userId": "09905057186129444342"
     },
     "user_tz": 180
    },
    "id": "Ino7_SDWzuLo",
    "outputId": "af581013-9f55-409d-ce53-7d5d7da59690",
    "scrolled": true
   },
   "outputs": [
    {
     "name": "stdout",
     "output_type": "stream",
     "text": [
      "Requirement already satisfied: openai==0.28 in /opt/anaconda3/lib/python3.12/site-packages (0.28.0)\n",
      "Requirement already satisfied: requests>=2.20 in /opt/anaconda3/lib/python3.12/site-packages (from openai==0.28) (2.32.2)\n",
      "Requirement already satisfied: tqdm in /opt/anaconda3/lib/python3.12/site-packages (from openai==0.28) (4.66.4)\n",
      "Requirement already satisfied: aiohttp in /opt/anaconda3/lib/python3.12/site-packages (from openai==0.28) (3.9.5)\n",
      "Requirement already satisfied: charset-normalizer<4,>=2 in /opt/anaconda3/lib/python3.12/site-packages (from requests>=2.20->openai==0.28) (2.0.4)\n",
      "Requirement already satisfied: idna<4,>=2.5 in /opt/anaconda3/lib/python3.12/site-packages (from requests>=2.20->openai==0.28) (3.7)\n",
      "Requirement already satisfied: urllib3<3,>=1.21.1 in /opt/anaconda3/lib/python3.12/site-packages (from requests>=2.20->openai==0.28) (2.2.2)\n",
      "Requirement already satisfied: certifi>=2017.4.17 in /opt/anaconda3/lib/python3.12/site-packages (from requests>=2.20->openai==0.28) (2024.7.4)\n",
      "Requirement already satisfied: aiosignal>=1.1.2 in /opt/anaconda3/lib/python3.12/site-packages (from aiohttp->openai==0.28) (1.2.0)\n",
      "Requirement already satisfied: attrs>=17.3.0 in /opt/anaconda3/lib/python3.12/site-packages (from aiohttp->openai==0.28) (23.1.0)\n",
      "Requirement already satisfied: frozenlist>=1.1.1 in /opt/anaconda3/lib/python3.12/site-packages (from aiohttp->openai==0.28) (1.4.0)\n",
      "Requirement already satisfied: multidict<7.0,>=4.5 in /opt/anaconda3/lib/python3.12/site-packages (from aiohttp->openai==0.28) (6.0.4)\n",
      "Requirement already satisfied: yarl<2.0,>=1.0 in /opt/anaconda3/lib/python3.12/site-packages (from aiohttp->openai==0.28) (1.9.3)\n",
      "Requirement already satisfied: pillow in /opt/anaconda3/lib/python3.12/site-packages (10.3.0)\n",
      "Requirement already satisfied: fpdf in /opt/anaconda3/lib/python3.12/site-packages (1.7.2)\n",
      "Requirement already satisfied: requests in /opt/anaconda3/lib/python3.12/site-packages (2.32.2)\n",
      "Requirement already satisfied: charset-normalizer<4,>=2 in /opt/anaconda3/lib/python3.12/site-packages (from requests) (2.0.4)\n",
      "Requirement already satisfied: idna<4,>=2.5 in /opt/anaconda3/lib/python3.12/site-packages (from requests) (3.7)\n",
      "Requirement already satisfied: urllib3<3,>=1.21.1 in /opt/anaconda3/lib/python3.12/site-packages (from requests) (2.2.2)\n",
      "Requirement already satisfied: certifi>=2017.4.17 in /opt/anaconda3/lib/python3.12/site-packages (from requests) (2024.7.4)\n"
     ]
    }
   ],
   "source": [
    "!pip install openai==0.28  # Para interactuar con los modelos OpenAI de GPT-3,  DALL-E y whisper\n",
    "!pip install pillow        # Para la edición de la imágen de la receta\n",
    "!pip install fpdf          # Para generar el archivo PDF con la receta\n",
    "!pip install requests      # Para hacer la petición HTTP de la imágen de la receta generada\n"
   ]
  },
  {
   "cell_type": "markdown",
   "metadata": {
    "id": "J0NTpICHl0Xn"
   },
   "source": [
    "<a name=\"importacion\"></a>\n",
    "### PASO 2: Importación de las librerías necesarias - [Volver al menú](#top)\n",
    "<hr>"
   ]
  },
  {
   "cell_type": "code",
   "execution_count": 4,
   "metadata": {
    "colab": {
     "base_uri": "https://localhost:8080/",
     "height": 417
    },
    "executionInfo": {
     "elapsed": 262191,
     "status": "error",
     "timestamp": 1722510013090,
     "user": {
      "displayName": "HUGO mon",
      "userId": "09905057186129444342"
     },
     "user_tz": 180
    },
    "id": "-EbI0txTzwxg",
    "outputId": "2b8ba9e9-0d30-4144-8cc8-169f3dd04b22"
   },
   "outputs": [],
   "source": [
    "import openai\n",
    "from fpdf import FPDF\n",
    "from PIL import Image\n",
    "import requests\n",
    "from io import BytesIO\n",
    "import os\n",
    "from pathlib import Path\n",
    "import IPython\n",
    "from getpass import getpass"
   ]
  },
  {
   "cell_type": "markdown",
   "metadata": {},
   "source": [
    "<a name=\"apikey\"></a>\n",
    "### PASO 3: Definición de API Key - [Volver al menú](#top)\n",
    "<hr>"
   ]
  },
  {
   "cell_type": "code",
   "execution_count": 6,
   "metadata": {},
   "outputs": [
    {
     "name": "stdin",
     "output_type": "stream",
     "text": [
      "Ingresa tu API Key secreta:  ········\n"
     ]
    }
   ],
   "source": [
    "# Se solicita el ingreso de la API Key secreta\n",
    "openai.api_key = getpass.getpass(prompt='Ingresa tu API Key secreta: ', stream=None)\n"
   ]
  },
  {
   "cell_type": "markdown",
   "metadata": {},
   "source": [
    "<a name=\"generarReceta\"></a>\n",
    "### PASO 4: Función para generar Receta - [Volver al menú](#top)\n",
    "<hr>"
   ]
  },
  {
   "cell_type": "code",
   "execution_count": 8,
   "metadata": {},
   "outputs": [],
   "source": [
    "def generar_receta(ingredientes):\n",
    "    contexto = '''\n",
    "        Eres un chef profesional de primera clase mundial\n",
    "        '''\n",
    "    \n",
    "    prompt_usuario = f'''\n",
    "        Crea una receta detallada basada en los siguientes ingredientes: {','.join(ingredientes)}.\n",
    "        Formatea la receta de la siguiente manera:\n",
    "        \n",
    "        Título de la Receta:\n",
    "        [Aquí coloca el titulo de la receta sin asteriscos comas puntos ni caracteres especiales]\n",
    "\n",
    "        Ingredientes de la Receta con tamaño y porción:\n",
    "\n",
    "        Lista de Instrucciones para la receta:\n",
    "\n",
    "    '''\n",
    "    respuesta = openai.ChatCompletion.create(\n",
    "        model='gpt-3.5-turbo',\n",
    "        messages=[\n",
    "            {'role': 'system', 'content': contexto},\n",
    "            {'role': 'user', 'content': prompt_usuario}\n",
    "        ],\n",
    "        max_tokens=1020,\n",
    "        temperature=0.9\n",
    "    )\n",
    "    return respuesta.choices[0].message.content   # Devuelvo la respuesta con la receta"
   ]
  },
  {
   "cell_type": "markdown",
   "metadata": {},
   "source": [
    "<a name=\"nombreReceta\"></a>\n",
    "### PASO 5: Función para obtener el nombre de la receta - [Volver al menú](#top)\n",
    "<hr>"
   ]
  },
  {
   "cell_type": "code",
   "execution_count": 10,
   "metadata": {},
   "outputs": [],
   "source": [
    "def obtener_nombre_receta(texto):\n",
    "    lineas = texto.splitlines() #divido el texto en lineas\n",
    "    return lineas[1] #tomo la segunda linea, ya que ahi viene el titulo de la receta que le estoy pidiendo en prompt_usuario\n"
   ]
  },
  {
   "cell_type": "markdown",
   "metadata": {},
   "source": [
    "<a name=\"imagenReceta\"></a>\n",
    "### PASO 6: Función para generar la imágen de la receta - [Volver al menú](#top)\n",
    "<hr>"
   ]
  },
  {
   "cell_type": "code",
   "execution_count": 12,
   "metadata": {},
   "outputs": [],
   "source": [
    "def generar_imagen(titulo_receta):\n",
    "    prompt_imagen = f'''\n",
    "    Crea una imágen fotorealista del plato final titulado \"{titulo_receta}\".\n",
    "    La comida debe estar bellamente presentada en un plato de cerámica con un enfoque cercano en las texturas y colores de los ingredientes.\n",
    "    La ambientación debe ser sobre una mesa de madera con iluminación natural para resaltar las características apetitosas de la comida. La imágen debe capturar los colores ricos y vibrantes asi como los detalles intrincados, haciéndola parecer recien preparada y lista para comer. \n",
    "    '''\n",
    "\n",
    "    respuesta=openai.Image.create(\n",
    "        model='dall-e-3',\n",
    "        prompt=prompt_imagen,\n",
    "        style='vivid',\n",
    "        size='1024x1024',\n",
    "        quality='standard',\n",
    "        n = 1 \n",
    "    )\n",
    "\n",
    "    return respuesta.data[0].url"
   ]
  },
  {
   "cell_type": "markdown",
   "metadata": {},
   "source": [
    "<a name=\"generaPdf\"></a>\n",
    "### PASO 7: Función para generar el archivo PDF - [Volver al menú](#top)\n",
    "<hr>"
   ]
  },
  {
   "cell_type": "code",
   "execution_count": 14,
   "metadata": {},
   "outputs": [],
   "source": [
    "def generar_pdf(titulo_receta, receta, imagen_url):\n",
    "    pdf = FPDF() #creo una instancia de la clase pdf\n",
    "    pdf.add_page() #agrego una página al pdf creado\n",
    "    pdf.set_font(family=\"Arial\", size=12)\n",
    "    \n",
    "    #TITULO\n",
    "    pdf.set_font(family=\"Arial\", style='B', size=16) #configuro formato para el título \n",
    "    pdf.cell(w=0, h=10, txt=titulo_receta, ln=True, align='C')\n",
    "\n",
    "    #IMAGEN\n",
    "    respuesta = requests.get(imagen_url)\n",
    "    img = Image.open(BytesIO(respuesta.content)).convert(\"RGB\")\n",
    "    img_path = f\"{titulo_receta.replace(' ', '-')}.jpg\"\n",
    "    img.save(img_path, format=\"JPEG\")\n",
    "    pdf.ln(10) #hago un salto de línea de tamaño 10\n",
    "    img_width = 170\n",
    "    pdf.image(img_path, x=(pdf.w - img_width)/2, w=img_width, type='JPEG') # pongo la imagen en el pdf\n",
    "    pdf.ln(10) #hago un salto de línea de tamaño 10\n",
    "\n",
    "    #RECETA\n",
    "    pdf.set_font(family= \"Arial\", size=12) #le configuro el tipo y tamaño de letra nuevamente\n",
    "    for linea in receta.split('\\n'):\n",
    "        pdf.multi_cell(w = 0, h = 10, txt = linea)\n",
    "\n",
    "    pdf_archivo = f\"{titulo_receta.replace(' ', '-')}.pdf\"\n",
    "    pdf.output(pdf_archivo)\n",
    "\n",
    "    return pdf_archivo"
   ]
  },
  {
   "cell_type": "markdown",
   "metadata": {},
   "source": [
    "<a name=\"usando\"></a>\n",
    "### PASO 8: Usando la API - [Volver al menú](#top)\n",
    "<hr>"
   ]
  },
  {
   "cell_type": "markdown",
   "metadata": {},
   "source": [
    "<a name=\"ingresoIngredientes\"></a>\n",
    "##### 1 - INGRESO INTEACTIVO DE LOS INGREDIENTES - [Volver al menú](#top)\n",
    "<hr>"
   ]
  },
  {
   "cell_type": "code",
   "execution_count": 18,
   "metadata": {},
   "outputs": [
    {
     "name": "stdout",
     "output_type": "stream",
     "text": [
      "SmartCheff - IA\n",
      "Crea tus recetas inteligentes con lo que tengas a mano ..._\n"
     ]
    },
    {
     "name": "stdin",
     "output_type": "stream",
     "text": [
      "Ingresa un ingrediente (o presiona Enter para finalizar):  tomate\n",
      "Ingresa un ingrediente (o presiona Enter para finalizar):  rucula\n",
      "Ingresa un ingrediente (o presiona Enter para finalizar):  fideos moño\n",
      "Ingresa un ingrediente (o presiona Enter para finalizar):  carne molida\n",
      "Ingresa un ingrediente (o presiona Enter para finalizar):  \n"
     ]
    },
    {
     "name": "stdout",
     "output_type": "stream",
     "text": [
      "\n",
      "Ingredientes ingresados: tomate, rucula, fideos moño, carne molida\n",
      "\n",
      "Avance al siguiente punto para generar la receta\n"
     ]
    }
   ],
   "source": [
    "# 1 - INGRESO INTEACTIVO DE LOS INGREDIENTES\n",
    "\n",
    "print(\"SmartCheff - IA\")\n",
    "print(\"Crea tus recetas inteligentes con lo que tengas a mano ..._\")\n",
    "\n",
    "# Se inicializa la lista para almacenar los ingredientes\n",
    "ingredientes = []\n",
    "\n",
    "# Bucle para solicita los ingredientes al usuario  \n",
    "while True:\n",
    "    # Solicita un ingrediente\n",
    "    ingrediente = input(\"Ingresa un ingrediente (o presiona Enter para finalizar): \")\n",
    "\n",
    "    # Si el ususario presiona Enter sin ingresar nada, sale del bucle\n",
    "    if ingrediente == \"\":\n",
    "        break\n",
    "\n",
    "    # Se agrega el ingrediente a la lista\n",
    "    ingredientes.append(ingrediente.lower())\n",
    "\n",
    "# Se convierte la lista de ingredientes a texto separado por comas\n",
    "ingredientes_texto = \", \".join(ingredientes)\n",
    "            \n",
    "# Muestro los ingredientes ingresados\n",
    "print(\"\\nIngredientes ingresados:\", ingredientes_texto)\n",
    "print(\"\\nAvance al siguiente punto para generar la receta\")\n"
   ]
  },
  {
   "cell_type": "markdown",
   "metadata": {},
   "source": [
    "<hr>\n",
    "\n",
    "<a name=\"generacionReceta\"></a>\n",
    "##### 2 - GENERACION DE LA RECETA - [Volver al menú](#top)\n",
    "<hr>"
   ]
  },
  {
   "cell_type": "code",
   "execution_count": 22,
   "metadata": {},
   "outputs": [
    {
     "name": "stdin",
     "output_type": "stream",
     "text": [
      "¿Deseas generar la receta con los ingredientes ingresados? (sí/no):  si\n"
     ]
    },
    {
     "name": "stdout",
     "output_type": "stream",
     "text": [
      "\n",
      "RECETA:\n",
      "Título de la Receta:\n",
      "Ensalada de Fideos con Salsa de Tomate y Carne Molida\n",
      "\n",
      "Ingredientes de la Receta con tamaño y porción:\n",
      "- 1 tomate grande\n",
      "- 1 manojo de rúcula\n",
      "- 200g de fideos moños\n",
      "- 200g de carne molida\n",
      "\n",
      "Lista de Instrucciones para la receta:\n",
      "1. Cocina los fideos moños según las instrucciones del paquete. Escúrrelos y reserva.\n",
      "2. Mientras se cocinan los fideos, en una sartén grande, cocina la carne molida a fuego medio-alto hasta que esté bien dorada y cocida por completo. Añade sal y pimienta al gusto. Reserva.\n",
      "3. Lava y corta el tomate en cubos grandes.\n",
      "4. En un bol grande, mezcla los fideos cocidos, la carne molida y los tomates.\n",
      "5. Añade la rúcula lavada y cortada en trozos grandes a la mezcla y revuelve suavemente.\n",
      "6. Para la salsa, puedes utilizar una vinagreta simple de aceite de oliva, vinagre balsámico, sal y pimienta.\n",
      "7. Sirve la ensalada de fideos en platos individuales y añade un poco de salsa por encima.\n",
      "8. ¡Disfruta de esta deliciosa ensalada de fideos con salsa de tomate y carne molida como plato principal!\n"
     ]
    }
   ],
   "source": [
    "# 2 - GENERACION DE LA RECETA\n",
    "\n",
    "# Pregunta si el usuario desea generar la receta\n",
    "desea_generar = input(\"¿Deseas generar la receta con los ingredientes ingresados? (sí/no): \").strip().lower()\n",
    "\n",
    "# Si el usuario desea generar la receta, se llama a la función generar_receta\n",
    "if desea_generar == \"sí\" or desea_generar == \"si\":\n",
    "    global receta \n",
    "    receta = generar_receta(ingredientes_texto)\n",
    "    #receta = \"esta es la receta\"\n",
    "    print(\"\\nRECETA:\")\n",
    "    print(receta)\n",
    "else:\n",
    "    print(\"\\nReceta no generada.\")\n",
    "\n"
   ]
  },
  {
   "cell_type": "markdown",
   "metadata": {},
   "source": [
    "<hr>\n",
    "\n",
    "<a name=\"generacionImagen\"></a>\n",
    "##### 3 - GENERACION DE LA IMAGEN PARA LA RECETA - [Volver al menú](#top)\n",
    "<hr>"
   ]
  },
  {
   "cell_type": "code",
   "execution_count": 24,
   "metadata": {},
   "outputs": [
    {
     "name": "stdout",
     "output_type": "stream",
     "text": [
      "Ensalada de Fideos con Salsa de Tomate y Carne Molida\n",
      "https://oaidalleapiprodscus.blob.core.windows.net/private/org-UG8a0tDEW5HyKxSCmlQz9u1c/user-ID95BSrLYhw6o73YbV2XiCNV/img-ayGUuOUvV3g2RDIUWJpT5zks.png?st=2024-08-23T15%3A09%3A38Z&se=2024-08-23T17%3A09%3A38Z&sp=r&sv=2024-08-04&sr=b&rscd=inline&rsct=image/png&skoid=d505667d-d6c1-4a0a-bac7-5c84a87759f8&sktid=a48cca56-e6da-484e-a814-9c849652bcb3&skt=2024-08-22T23%3A28%3A35Z&ske=2024-08-23T23%3A28%3A35Z&sks=b&skv=2024-08-04&sig=xol/xgLrZf849FZag6ODdqeFEEQ%2BB6WB8olPftJtbPo%3D\n"
     ]
    }
   ],
   "source": [
    "# 3 - GENERACION DE LA IMAGEN PARA LA RECETA\n",
    "if receta:\n",
    "    global imagen_receta\n",
    "    global titulo_receta\n",
    "    # Traigo el título de la receta usando la funcion obtener_nombre_receta\n",
    "    titulo_receta = obtener_nombre_receta(receta)\n",
    "    #titulo_receta = \"Este es el titulo\"\n",
    "    \n",
    "    # Muestro el título\n",
    "    print(titulo_receta)\n",
    "\n",
    "    # Genero la imágen para la receta usando la función generar_imagen\n",
    "    imagen_receta = generar_imagen(titulo_receta)\n",
    "    #imagen_receta = \"Esta es la imágen de la receta\"\n",
    "\n",
    "    # Muestro la imágen generada\n",
    "    print(imagen_receta)\n",
    "    "
   ]
  },
  {
   "cell_type": "markdown",
   "metadata": {},
   "source": [
    "<div align=\"center\">\n",
    "    <img src=\"Imagen_receta.png\" alt=\"Imágen receta\" width=\"700\" height=\"900\">\n",
    "</div>"
   ]
  },
  {
   "cell_type": "markdown",
   "metadata": {},
   "source": [
    "<hr>\n",
    "\n",
    "<a name=\"generacionPDF\"></a>\n",
    "##### 4 - GENERACION DEL ARCHIVO PDF - [Volver al menú](#top)\n",
    "<hr>"
   ]
  },
  {
   "cell_type": "code",
   "execution_count": 26,
   "metadata": {},
   "outputs": [
    {
     "name": "stdin",
     "output_type": "stream",
     "text": [
      "¿Deseas generar el PDF con la receta? (sí/no):  si\n"
     ]
    },
    {
     "name": "stdout",
     "output_type": "stream",
     "text": [
      "-------------------------------------------------------------------\n",
      "El PDF se guardó en la siguiente ubicacion:\n",
      "/Volumes/PRODUCTION/02-CODER/08-IA/SmartCheff/Ensalada-de-Fideos-con-Salsa-de-Tomate-y-Carne-Molida.pdf\n",
      "-------------------------------------------------------------------\n",
      "Con el nombre: Ensalada-de-Fideos-con-Salsa-de-Tomate-y-Carne-Molida.pdf\n",
      "-------------------------------------------------------------------\n"
     ]
    }
   ],
   "source": [
    "# 4 - GENERACION DEL ARCHIVO PDF\n",
    "# Pregunta si el usuario desea generar el PDF\n",
    "desea_generar_pdf = input(\"¿Deseas generar el PDF con la receta? (sí/no): \").strip().lower()\n",
    "\n",
    "# Si el usuario desea generar el PDF, se llama a la función generar_pdf\n",
    "if desea_generar_pdf == \"sí\" or desea_generar_pdf == \"si\":\n",
    "    global archivo_pdf\n",
    "    archivo_pdf = generar_pdf(titulo_receta, receta, imagen_receta)\n",
    "\n",
    "    # obtiene y muestra la ubicacion del archivo PDF generado\n",
    "    ubicacion = os.path.abspath(archivo_pdf)\n",
    "    print(\"-------------------------------------------------------------------\")\n",
    "    print(\"El PDF se guardó en la siguiente ubicacion:\")\n",
    "    print(ubicacion)\n",
    "    print(\"-------------------------------------------------------------------\")\n",
    "    # muestra el nombre con el que se creó el PDF\n",
    "    print(\"Con el nombre:\",archivo_pdf)\n",
    "    print(\"-------------------------------------------------------------------\")\n",
    "    \n",
    "else:\n",
    "    print(\"PDF no generado.\")\n"
   ]
  },
  {
   "cell_type": "markdown",
   "metadata": {},
   "source": [
    "<a name=\"resultados\"></a>\n",
    "## 8. Resultados \n",
    "\n",
    "La implementación propuesta permite generar recetas detalladas basadas en los ingredientes disponibles y visualizar el plato final mediante imágenes detalladas y bellas. El sistema cumple con la expectativa de facilitar la planificación de comidas y reducir el desperdicio de alimentos, mejorando la experiencia del usuario.\n",
    "\n",
    "**También se ha construido una aplicación con front-end básico streamlit que implementa la utilización del modelo OpenAI TTS-1 (text to speech o texto-audio)**, la cual puede ser clonada desde el siguiente repositorio: (https://github.com/hmfarias/SmartCheff-IA.git). \n",
    "\n",
    "Mayores detalles se brindan en el punto 10-[IMPLEMENTACIÓN EN UNA APP CON FRONT END](#appFront) del presente trabajo.\n",
    "\n",
    "La siguiente imágen muestra la pantalla front-end correspondiente a la aplicación que se puede encontrar en el repositorio  antes mencionado.\n",
    "\n",
    "<div align=\"center\">\n",
    "        <img src=\"imageWeb.png\" alt=\"Imagen web\" width=\"600\" height=\"400\">\n",
    "</div>\n",
    "\n",
    "La siguiente imágen muestra un modelo de receta generado en este Jupyter Notebook.\n",
    "\n",
    "<div align=\"center\">\n",
    "        <img src=\"img1.png\" alt=\"Imagen receta 1\" width=\"270\" height=\"270\">\n",
    "        <img src=\"img2.png\" alt=\"Imagen receta 2\" width=\"270\" height=\"270\">\n",
    "        <img src=\"img3.png\" alt=\"Imagen receta 3\" width=\"270\" height=\"270\">\n",
    "</div>\n",
    "\n",
    "\n",
    "[Volver al menú](#top)\n"
   ]
  },
  {
   "cell_type": "markdown",
   "metadata": {},
   "source": [
    "<a name=\"conclusiones\"></a>\n",
    "## 9. Conclusiones \n",
    "\n",
    "El proyecto **\"Smart Cheff IA\"** demuestra la viabilidad de utilizar modelos de OpenAI para resolver problemas cotidianos como la planificación de comidas. Los objetivos del proyecto se cumplieron, mostrando que es posible generar contenido útil y variado utilizando técnicas de fast prompting en una Jupyter Notebook. Este sistema puede ser escalado y mejorado para ofrecer aún más funcionalidades en el futuro.\n",
    "\n",
    "### Principales logros del proyecto:\n",
    "1. **Solución al Problema de Planificación de comidas:** \"Smart Cheff IA\" aborda el desafío común de planificar comidas con los ingredientes disponibles, facilitando el proceso, ayudando a reducir el desperdicio de alimentos y promoviendo la sostenibilidad  optimización y el uso de recursos.\n",
    "2. **Implementación Eficiente de IA:** Utilizando la técnica de one-shot learning, \"Smart Cheff IA\" puede generar recetas personalizadas y visualizaciones con una alta precisión y coherencia. Esta técnica equilibra la necesidad de ejemplos específicos con la eficiencia en términos de tiempo y recursos, optimizando así los costos operativos.\n",
    "3. **Tecnologías Avanzadas:** Al emplear herramientas y tecnologías de vanguardia en generación de texto e imágenes, \"Smart Cheff IA\" ofrece una experiencia de usuario única que combina precisión y estética, mejorando así la satisfacción del cliente.\n",
    "\n",
    "[Volver al menú](#top)\n"
   ]
  },
  {
   "attachments": {},
   "cell_type": "markdown",
   "metadata": {},
   "source": [
    "<a name=\"impacto\"></a>\n",
    "### Impacto y futuro del proyecto:\n",
    "\n",
    "#### Impacto:\n",
    "\n",
    "El proyecto tiene un impacto significativo tanto en el ámbito culinario como en la vida cotidiana de los usuarios. Al proporcionar recetas personalizadas basadas en los ingredientes disponibles, el proyecto puede:\n",
    "\n",
    "1. **Reducir el Desperdicio de Alimentos:** Al ofrecer soluciones culinarias que aprovechan los ingredientes que el usuario ya tiene, se minimiza el desperdicio de alimentos, lo que contribuye a una mayor sostenibilidad y un menor impacto ambiental.\n",
    "2. **Facilitar la Planificación de Comidas:** Los usuarios pueden planificar sus comidas de manera más eficiente, optimizando el uso de los ingredientes que tienen a mano y ahorrando tiempo en la toma de decisiones.\n",
    "3. **Promover la Diversificación Alimentaria:** Al ofrecer nuevas ideas y combinaciones de recetas, el proyecto incentiva a los usuarios a experimentar con diferentes ingredientes y platos, enriqueciendo su dieta y mejorando su experiencia culinaria.\n",
    "4. **Aumentar la Accesibilidad a Recetas Personalizadas:** El uso de inteligencia artificial democratiza el acceso a recetas personalizadas, permitiendo a cualquier persona, independientemente de sus habilidades culinarias, disfrutar de platos variados y adecuados a sus necesidades o restricciones dietéticas.\n",
    "\n",
    "#### Futuro del proyecto:\n",
    "\n",
    "El futuro del proyecto es prometedor y se puede expandir en varias direcciones:\n",
    "\n",
    "1. **Integración con Tecnologías IoT (Internet of Things):** El proyecto podría integrarse con dispositivos inteligentes en el hogar, como refrigeradores que detecten automáticamente los ingredientes disponibles y sugieran recetas en tiempo real. Esto podría crear un ecosistema de cocina inteligente, donde la planificación de comidas sea aún más automatizada y eficiente.\n",
    "2. **Personalización Avanzada mediante Aprendizaje Automático:** Con el tiempo, el modelo podría aprender las preferencias y hábitos alimenticios de los usuarios, ajustando las sugerencias de recetas a sus gustos específicos, alergias o restricciones dietéticas, mejorando la personalización de manera continua.\n",
    "3. **Expansión Multimodal:** El proyecto podría expandirse para incluir generación de recetas a través de múltiples modalidades, como texto, imagen y voz. Esto permitiría a los usuarios interactuar con el sistema a través de comandos de voz o visualizar representaciones gráficas de los platos sugeridos, haciendo la experiencia más interactiva y accesible.\n",
    "4. **Plataforma Comunitaria y Colaborativa:** El proyecto podría evolucionar hacia una plataforma donde los usuarios compartan sus propias recetas y combinaciones, creando una comunidad global de cocineros que colaboran y se inspiran mutuamente, mientras la IA aprende de este vasto conjunto de datos.\n",
    "5. **Integración con Servicios de Entrega:** El sistema podría integrarse con servicios de entrega de alimentos, permitiendo a los usuarios pedir ingredientes que no tengan a mano directamente desde la aplicación, completando así la experiencia de cocina desde la planificación hasta la ejecución.\n",
    "6. **Implementación de modelos IA para convertir texto a audio**, lo cual puede resultar sumamente útil en entornos de cocina para seguir instrucciones auditivas.\n",
    "\n",
    "\n",
    "[Volver al menú](#top)\n"
   ]
  },
  {
   "cell_type": "markdown",
   "metadata": {},
   "source": [
    "<a name=\"appFront\"></a>\n",
    "### IMPLEMENTACION APP CON USO DEL MODELO OPENAI TTS-1 (AUDIO-TEXTO) - [Volver al menú](#top)\n",
    "\n",
    "Si bien modelo AUDIO-TEXTO de la receta no se ha podido ejecutar con éxito en este Jupyter Notebook, y me encuentro investigando el motivo por el cual la ejecución da error pese a seguir de manera exacta la documentación existente sobre la API. (https://platform.openai.com/docs/guides/text-to-speech/overview). Todo parece indicar, que se trata de un problema de version de la librería instalada para este Jupyter (openai==0.28). \n",
    "\n",
    "Sin embargo, **SI HA SIDO POSIBLE IMPLEMENTAR DICHO MODELO**, en la aplicación creada con front end que se agrega como parte complementaria del presente trabajo final y se encuentra en el repositorio Github (https://github.com/hmfarias/SmartCheff-IA.git), la cual utiliza una version openai 1.40 e implementa algunos pequeños detalles del modelo de manera diferente, tales como:\n",
    "\n",
    "la importación openai:\n",
    "```\n",
    "from openai import OpenAI\n",
    "```\n",
    "el instanciamiento del cliente openai:\n",
    "```\n",
    "cliente = OpenAI()\n",
    "```\n",
    "y el llamado a los modelos:\n",
    "```\n",
    "cliente.chat.completions.create() # Para la generación texto-texto\n",
    "cliente.images.generate() # Para la generación texto-imagen\n",
    "cliente.audio.speech.create() # Para la generacion texto-audio\n",
    "\n",
    "```\n",
    "\n",
    "**El archivo readme de dicho repositorio brinda los detalles para clonar y utilizar la app y en el siguiente link podrá ver un video sobre la misma:** (https://github.com/hmfarias/SmartCheff-IA/videoApp.mp4)\n",
    "\n",
    "Generar el audio de la receta utilizando el modelo TTS-1 de OpenAI es una adición significativa para hacer la experiencia de usuario más inclusiva, accesible y cómoda. A continuación, se detallan las razones clave por las que este enfoque es importante:\n",
    "\n",
    "1. **Accesibilidad Mejorada:**\n",
    "Inclusión de Personas con Discapacidad Visual: No todas las personas pueden leer textos de manera convencional. Generar un audio de la receta permite que personas con discapacidad visual accedan a la información de manera autónoma, mejorando significativamente su experiencia y facilitando su integración en actividades diarias como la cocina.\n",
    "Facilidad para Personas con Dificultades de Lectura: El audio también es útil para personas con dislexia u otras dificultades de lectura, brindándoles la posibilidad de comprender las recetas sin la necesidad de leer el texto.\n",
    "2. **Comodidad y Practicidad:**\n",
    "Manos Libres durante la Cocina: Cuando se sigue una receta mientras se cocina, tener las manos libres es crucial. Un audio guía permite a los usuarios escuchar las instrucciones sin necesidad de mirar constantemente una pantalla o un libro, lo que reduce las interrupciones y errores durante la preparación de los platos.\n",
    "Acceso en Diferentes Situaciones: Los usuarios pueden escuchar las recetas mientras realizan otras actividades, como conducir o hacer las compras, lo que les permite planificar su cocina de manera más eficiente.\n",
    "3. **Experiencia de Usuario Enriquecida:**\n",
    "Interacción Más Natural: El uso de audio puede hacer que la interacción con la receta sea más intuitiva y natural, como si alguien estuviera explicando los pasos en persona. Esto puede mejorar la retención de la información y la precisión en la ejecución de la receta.\n",
    "Atención a los Detalles: Con un audio que resalte pausas y énfasis en las instrucciones clave, los usuarios pueden captar mejor los detalles importantes, como tiempos de cocción o ingredientes específicos, lo que resulta en una mayor precisión en la preparación de la receta.\n",
    "4. **Ampliación del Alcance:**\n",
    "Atracción de Nuevas Audiencias: Al ofrecer recetas en formato de audio, el proyecto puede atraer a una audiencia más amplia, incluyendo personas que prefieren consumir contenido en audio, como aquellos acostumbrados a los podcasts.\n",
    "Compatibilidad con Asistentes Virtuales: El audio generado puede ser integrado con asistentes virtuales como Alexa o Google Assistant, permitiendo a los usuarios pedir recetas y seguirlas sin necesidad de interactuar con una pantalla.\n",
    "\n",
    "Sin dudas, la incorporación del modelo TTS-1 de OpenAI para generar audios de recetas no solo hace que la información culinaria sea más accesible, sino que también mejora la experiencia general del usuario al hacerlo más cómodo y práctico. Esto no solo incrementa la satisfacción del usuario, sino que también hace que la cocina sea una actividad más inclusiva y agradable para todos.\n",
    "\n",
    "Las siguientes imágenes muestran la pantalla front-end correspondiente a la aplicación que se puede encontrar en el repositorio mencionado y puede verse al pie de la ultima imágen el botón para generar y reproducir el audio de la receta.\n",
    "\n",
    "<div align=\"center\">\n",
    "  <img src=\"imageWeb1.png\" alt=\"Imagen receta 1\" width=\"300\" height=\"400\">\n",
    "  <img src=\"imageWeb2.png\" alt=\"Imagen receta 1\" width=\"300\" height=\"400\">\n",
    "  <img src=\"imageWeb3.png\" alt=\"Imagen receta 1\" width=\"300\" height=\"400\">\n",
    "  <img src=\"imageWeb4.png\" alt=\"Imagen receta 1\" width=\"300\" height=\"400\">\n",
    "</div>\n",
    "\n",
    "\n",
    "El código implementado en dicha aplicación se detalla a continuación:\n",
    "\n",
    "```\n",
    "def generar_audio(receta, titulo_receta, voz):\n",
    "    respuesta = cliente.audio.speech.create(\n",
    "        model = 'tts-1',\n",
    "        voice = voz,\n",
    "        input = receta,\n",
    "    )\n",
    "    audio_path = f\"{titulo_receta.replace(' ', '-')}.mp3\"\n",
    "\n",
    "    #GUARDO EL ARCHIVO DE AUDIO\n",
    "    with open(audio_path, \"wb\") as output_file:\n",
    "        for chunk in respuesta.iter_bytes():\n",
    "            if chunk:\n",
    "                output_file.write(chunk)\n",
    "\n",
    "    # Devuelvo el path del archivo de audio generado            \n",
    "    return audio_path\n",
    "```\n",
    "\n",
    "##### GENERACION DEL AUDIO DE LA RECETA\n",
    "\n",
    "```\n",
    "if receta: # Si se ha generado una receta antes\n",
    "    # Pregunta si el usuario desea generar el AUDIO\n",
    "    desea_generar_audio = input(\"¿Deseas generar el AUDIO de la receta? (sí/no): \").strip().lower()\n",
    "\n",
    "    # Si el usuario desea generar el audio de la receta, se llama a la función generar_audio\n",
    "    if desea_generar_audio == \"sí\" or desea_generar_audio == \"si\":\n",
    "        global audio \n",
    "        voz='nova'\n",
    "        audio = generar_audio(receta,titulo_receta,voz)\n",
    "        IPython.display.Audio(\"/audios/speech.mp3\")\n",
    "\n",
    "    else:\n",
    "        print(\"Audio no generada.\")\n",
    "\n",
    "```\n",
    "\n",
    "[Volver al menú](#top)\n",
    "<hr>"
   ]
  },
  {
   "cell_type": "markdown",
   "metadata": {},
   "source": [
    "<a name=\"cierre\"></a>\n",
    "## 10. Cierre \n",
    "\n",
    "El proyecto **Smart Cheff IA** ha demostrado ser una solución innovadora y eficiente para la generación automática de recetas personalizadas basadas en los ingredientes disponibles. A lo largo del desarrollo, se han implementado técnicas avanzadas de aprendizaje automático, como One-Shot Learning, para optimizar la generación de recetas en un formato consistente y estructurado, cumpliendo con las expectativas de los usuarios.\n",
    "\n",
    "La capacidad del modelo para aprender y aplicar un formato de salida con solo un ejemplo ha simplificado la implementación, haciéndola accesible y útil tanto para usuarios cotidianos como para aplicaciones profesionales. Esto no solo facilita la planificación de comidas y reduce el desperdicio de alimentos, sino que también promueve la diversificación de la dieta y la exploración culinaria.\n",
    "\n",
    "El proyecto también abre las puertas a futuras integraciones con tecnologías emergentes, como dispositivos IoT y plataformas colaborativas, lo que podría llevar la personalización de la cocina a un nivel completamente nuevo. A medida que la tecnología continúa evolucionando, este proyecto tiene el potencial de convertirse en una herramienta esencial en la vida diaria, promoviendo hábitos alimenticios más sostenibles y mejorando la experiencia culinaria de los usuarios en todo el mundo.\n",
    "\n",
    "En resumen, los objetivos propuestos se han alcanzado con éxito, proporcionando una base sólida sobre la cual continuar innovando y mejorando la interacción entre la inteligencia artificial y las necesidades culinarias del usuario.\n",
    "\n",
    "[Volver al menú](#top)\n"
   ]
  },
  {
   "cell_type": "code",
   "execution_count": null,
   "metadata": {},
   "outputs": [],
   "source": []
  }
 ],
 "metadata": {
  "colab": {
   "provenance": [
    {
     "file_id": "1ct7yy116PUQsyHiTtvPaHq8NLuXGEFjE",
     "timestamp": 1722510140236
    }
   ]
  },
  "kernelspec": {
   "display_name": "Python 3 (ipykernel)",
   "language": "python",
   "name": "python3"
  },
  "language_info": {
   "codemirror_mode": {
    "name": "ipython",
    "version": 3
   },
   "file_extension": ".py",
   "mimetype": "text/x-python",
   "name": "python",
   "nbconvert_exporter": "python",
   "pygments_lexer": "ipython3",
   "version": "3.12.4"
  }
 },
 "nbformat": 4,
 "nbformat_minor": 4
}
